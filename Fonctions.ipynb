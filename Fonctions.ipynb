{
 "cells": [
  {
   "cell_type": "markdown",
   "id": "21dfa672",
   "metadata": {},
   "source": [
    "<center>\n",
    "<H1><span style=\"text-align: center; font-weight: bold; color: #746bb3ff;\">Les Fonctions</span></H1>\n",
    "</center>"
   ]
  },
  {
   "cell_type": "markdown",
   "id": "4280dbf3",
   "metadata": {},
   "source": [
    "<H3><span style=\"font-weight: bold ; color: #19b7f1ff\">Les ressources: </span></H3> \n",
    "\n",
    "\n",
    "* [Python Functions](https://realpython.com/defining-your-own-python-function/#abstraction)\n",
    "* [Documentation Officielle de Python](https://docs.python.org/fr/3/tutorial/controlflow.html#defining-functions)"
   ]
  },
  {
   "cell_type": "markdown",
   "id": "e83d584f",
   "metadata": {},
   "source": [
    "<H3><span style=\"font-weight: bold; color: #1a8bcdff;\">Challenge 1 : Présentation personnalisé</span></H3>\n",
    "\n",
    "1. <span style=\"font-weight: bold; color: #e56922ff;\">Objectif</span> : </br>\n",
    "Réutiliser un programme existant (Challenge 2) en le structurant dans une fonction nommée horaire_sup.\n",
    "\n",
    "2. <span style=\"font-weight: bold; color: #e56922ff;\">Travail à faire</span>:</br>\n",
    "Réécris le programme du Challenge 2 dans une fonction appelée horaire_sup."
   ]
  },
  {
   "cell_type": "code",
   "execution_count": null,
   "id": "b3439d44",
   "metadata": {},
   "outputs": [],
   "source": [
    "#  Écrivez du code Python ici\n",
    "\n",
    "# Sans Type de Retour - None \n",
    "def horaire_sup(name:str , salary_hour:float , hours_worked:int) -> None :\n",
    "    if hours_worked > 40:\n",
    "        salary = (40 * salary_hour) + ((hours_worked - 40) * salary_hour * 1.5)\n",
    "    else:\n",
    "        salary = hours_worked * salary_hour\n",
    "\n",
    "    print(f\"Hello {name}, your salary is {salary} DH.\")\n",
    "\n",
    "\n",
    "# Avec Type de Retour - Float\n",
    "def horaire_sup(name:str , salary_hour:float , hours_worked:int) -> float :\n",
    "    if hours_worked > 40:\n",
    "        salary = (40 * salary_hour) + ((hours_worked - 40) * salary_hour * 1.5)\n",
    "    else:\n",
    "        salary = hours_worked * salary_hour\n",
    "\n",
    "    return salary"
   ]
  },
  {
   "cell_type": "markdown",
   "id": "77631c7d",
   "metadata": {},
   "source": [
    "<H3><span style=\"font-weight: bold; color: #1a8bcdff;\">Challenge 2 : Fonction calculation() – somme et différence</span></H3>\n",
    "\n",
    "1. <span style=\"font-weight: bold; color: #e56922ff;\">Objectif</span> : </br>\n",
    "Apprendre à écrire une fonction avec plusieurs paramètres et plusieurs valeurs de retour.\n",
    "\n",
    "2. <span style=\"font-weight: bold; color: #e56922ff;\">Travail à faire</span>:</br>\n",
    "Écris une fonction calculation() qui prend deux arguments et calcule leur somme ainsi que leur différence. La fonction doit ensuite retourner les deux résultats dans une seule instruction return."
   ]
  },
  {
   "cell_type": "code",
   "execution_count": 2,
   "id": "59e0f743",
   "metadata": {},
   "outputs": [],
   "source": [
    "#  Écrivez du code Python ici\n",
    "\n",
    "def calculation(N1:float , N2:float) -> tuple :\n",
    "    S = N1 + N2\n",
    "    D = N1 - N2\n",
    "\n",
    "    return S , D\n",
    "\n"
   ]
  },
  {
   "cell_type": "markdown",
   "id": "c2081304",
   "metadata": {},
   "source": [
    "<H3><span style=\"font-weight: bold; color: #1a8bcdff;\">Challenge 3 : Mini-projets algorithmiques regroupés</span></H3>\n",
    "\n",
    "1. <span style=\"font-weight: bold; color: #e56922ff;\">Objectif</span> : </br>\n",
    "Développer plusieurs petites fonctions indépendantes, chacune ciblant une compétence précise\n",
    "\n",
    "2. <span style=\"font-weight: bold; color: #e56922ff;\">Travail à faire</span>:</br>\n",
    "- Demander à l’utilisateur de saisir un nombre entier n et afficher la factorielle de ce nombre (n!).\n",
    "- Demander à l’utilisateur un nombre entier m et afficher sa table de multiplication de 1 à 10.\n",
    "- Demander à l’utilisateur un nombre entier L et indiquer s’il s’agit d’un carré parfait.\n",
    "- Demander une chaîne de caractères à l’utilisateur, puis afficher chaque caractère un par un.\n",
    "- Demander une phrase à l’utilisateur et afficher le mot le plus long de cette phrase.\n",
    "- Demander une chaîne de caractères Ch et afficher le nombre d’occurrences de chaque caractère. Exemple : Pour Ch = “artificial intelligence developer” \n",
    "- Le programme doit afficher : Le caractère \"i\" figure 5 fois dans la chaîne Ch."
   ]
  },
  {
   "cell_type": "code",
   "execution_count": null,
   "id": "a06adf5c",
   "metadata": {},
   "outputs": [],
   "source": [
    "#  Écrivez du code Python ici\n",
    "import math\n",
    "\n",
    "# Factorielle\n",
    "def factorielle(N:int) -> int :\n",
    "    i = 2\n",
    "    F = 1\n",
    "    while i <= N :\n",
    "        F *= i\n",
    "        i += 1\n",
    "    \n",
    "    return F\n",
    "\n",
    "\n",
    "# Tableau de Multiplication\n",
    "def tab_multiplication(M:int) -> None :\n",
    "    for i in range(10) :\n",
    "        print(f\"{M} * {i+1} = {M * (i+1)}\")\n",
    "\n",
    "\n",
    "# Carré Parfait\n",
    "def est_carre_parfait(L:int) -> None :\n",
    "    if math.sqrt(L).is_integer() :\n",
    "        print(f\"{L} est un Carré Parfait !\")\n",
    "    else :\n",
    "        print(f\"{L} n'est pas un Carré Parfait !\")\n",
    "\n",
    "\n",
    "# Affichage des Caractères\n",
    "def display_caracters(str:str) -> None :\n",
    "    for caracter in str :\n",
    "        print(caracter)\n",
    "\n",
    "\n",
    "# Le Mot le plus Long\n",
    "def mot_plus_long(phrase:str) -> None :\n",
    "    i = -1\n",
    "    max = 0\n",
    "    mots = phrase.split(\" \")\n",
    "    for mot in mots :\n",
    "        count = 0\n",
    "        for caracter in mot :\n",
    "            count += 1 \n",
    "        if count > max :\n",
    "            max = count\n",
    "            plus_long = mot\n",
    "        \n",
    "    print(f\"Le Mot le plus long est : {plus_long}\")\n",
    "\n",
    "\n",
    "# Nombre des Itérations des Caractères\n",
    "def nbr_iteration_carac(ch:str) -> None :\n",
    "    new_ch = ch.split(\" \")\n",
    "    chaine = \"\".join(new_ch)\n",
    "    deja_exist = []\n",
    "\n",
    "    for caractere in chaine:\n",
    "        if caractere not in deja_exist:\n",
    "            count = 0\n",
    "            for i in range(len(chaine)):\n",
    "                if chaine[i] == caractere:\n",
    "                    count += 1\n",
    "            print(f\"Le nombre d'occurrences de '{caractere}' est {count}\")\n",
    "            deja_exist.append(caractere)\n"
   ]
  }
 ],
 "metadata": {
  "kernelspec": {
   "display_name": "Python 3",
   "language": "python",
   "name": "python3"
  },
  "language_info": {
   "codemirror_mode": {
    "name": "ipython",
    "version": 3
   },
   "file_extension": ".py",
   "mimetype": "text/x-python",
   "name": "python",
   "nbconvert_exporter": "python",
   "pygments_lexer": "ipython3",
   "version": "3.13.7"
  }
 },
 "nbformat": 4,
 "nbformat_minor": 5
}
